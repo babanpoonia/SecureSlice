{
  "cells": [
    {
      "cell_type": "code",
      "execution_count": null,
      "metadata": {
        "id": "-6K8hrMk7rgD"
      },
      "outputs": [],
      "source": [
        "!pip install tensorflow\n",
        "!pip install keras"
      ]
    },
    {
      "cell_type": "code",
      "execution_count": null,
      "metadata": {
        "id": "x_oB1Zzx7y1-"
      },
      "outputs": [],
      "source": [
        "import pandas as pd\n",
        "import numpy as np\n",
        "import tensorflow as tf\n",
        "from sklearn.model_selection import train_test_split\n",
        "from sklearn.preprocessing import LabelEncoder, StandardScaler\n",
        "from sklearn.metrics import classification_report\n",
        "from sklearn.utils.class_weight import compute_class_weight\n",
        "from tensorflow.keras import layers, models"
      ]
    },
    {
      "cell_type": "code",
      "execution_count": null,
      "metadata": {
        "id": "9CzJFyqW72Zn"
      },
      "outputs": [],
      "source": [
        "# First, we get the data\n",
        "from google.colab import drive\n",
        "drive.mount('/content/drive')"
      ]
    },
    {
      "cell_type": "code",
      "execution_count": null,
      "metadata": {
        "id": "aGrLXG6b737D"
      },
      "outputs": [],
      "source": [
        "CSV_PATH = '/content/drive/MyDrive/dataset/multilabel/Combined.csv'\n",
        "df = pd.read_csv(CSV_PATH)\n",
        "\n",
        "drop_cols = ['Unnamed: 0', 'Label', 'Attack Tool', 'sVid', 'dVid', 'SrcTCPBase', 'DstTCPBase']\n",
        "df.drop(columns=[col for col in drop_cols if col in df.columns], inplace=True)"
      ]
    },
    {
      "cell_type": "code",
      "execution_count": null,
      "metadata": {
        "id": "Lbh23PeRebDD"
      },
      "outputs": [],
      "source": [
        "le = LabelEncoder()\n",
        "df['Attack Type'] = le.fit_transform(df['Attack Type'])\n",
        "y_all = df['Attack Type'].values\n",
        "num_classes = len(le.classes_)\n",
        "\n",
        "if 'Proto' in df.columns:\n",
        "    df = pd.get_dummies(df, columns=['Proto'])"
      ]
    },
    {
      "cell_type": "code",
      "execution_count": null,
      "metadata": {
        "id": "K4hnJQTTjohu"
      },
      "outputs": [],
      "source": [
        "df = df.dropna()  # Drop any remaining NaNs\n",
        "FEATURE_COLS = df.drop(columns=['Attack Type']).select_dtypes(include=[np.number]).columns.tolist()\n",
        "scaler = StandardScaler()\n",
        "df[FEATURE_COLS] = scaler.fit_transform(df[FEATURE_COLS])"
      ]
    },
    {
      "cell_type": "code",
      "execution_count": null,
      "metadata": {
        "id": "wU9Lg56zelnV"
      },
      "outputs": [],
      "source": [
        "X = df[FEATURE_COLS].values\n",
        "Y = df['Attack Type'].values\n",
        "\n",
        "print(\"X shape:\", X.shape)\n",
        "print(\"Y shape:\", Y.shape)"
      ]
    },
    {
      "cell_type": "code",
      "execution_count": null,
      "metadata": {
        "id": "FulZv5yPeoPD"
      },
      "outputs": [],
      "source": [
        "X_train, X_test, y_train, y_test = train_test_split(X, Y, test_size=0.2, random_state=42)"
      ]
    },
    {
      "cell_type": "code",
      "source": [
        "class_weights = compute_class_weight(class_weight='balanced', classes=np.unique(y_train), y=y_train)\n",
        "class_weight_dict = dict(enumerate(class_weights))"
      ],
      "metadata": {
        "id": "-xDZ6_Rz0aNk"
      },
      "execution_count": null,
      "outputs": []
    },
    {
      "cell_type": "code",
      "execution_count": null,
      "metadata": {
        "id": "odPnKCsxesiE"
      },
      "outputs": [],
      "source": [
        "model = models.Sequential([\n",
        "    layers.Input(shape=(X.shape[1],)),\n",
        "    layers.Dense(128, activation='relu'),\n",
        "    layers.Dropout(0.3),\n",
        "    layers.Dense(64, activation='relu'),\n",
        "    layers.Dropout(0.3),\n",
        "    layers.Dense(num_classes, activation='softmax')\n",
        "])\n",
        "\n",
        "optimizer = tf.keras.optimizers.Adam(learning_rate=1e-4)\n",
        "model.compile(optimizer=optimizer, loss='sparse_categorical_crossentropy', metrics=['accuracy'])\n",
        "model.summary()"
      ]
    },
    {
      "cell_type": "code",
      "execution_count": null,
      "metadata": {
        "id": "9CYmwDa7evhY"
      },
      "outputs": [],
      "source": [
        "history = model.fit(X_train, y_train, validation_data=(X_test, y_test),\n",
        "                    epochs=10, batch_size=64, class_weight=class_weight_dict)"
      ]
    },
    {
      "cell_type": "code",
      "execution_count": null,
      "metadata": {
        "id": "LDOtkB-6exfv"
      },
      "outputs": [],
      "source": [
        "y_pred = model.predict(X_test).argmax(axis=1)\n",
        "print(\"\\nClassification Report:\")\n",
        "print(classification_report(y_test, y_pred, labels=np.arange(num_classes), target_names=le.classes_))"
      ]
    },
    {
      "cell_type": "code",
      "execution_count": null,
      "metadata": {
        "id": "DNwvmLyRey8o"
      },
      "outputs": [],
      "source": [
        "model.save(\"multiclass_cnn_model.h5\")\n",
        "print(\"✅ Model saved as multiclass_cnn_model.h5\")"
      ]
    },
    {
      "cell_type": "code",
      "source": [
        "import os\n",
        "os.makedirs('model', exist_ok=True)"
      ],
      "metadata": {
        "id": "T0p3hSa9U1j-"
      },
      "execution_count": null,
      "outputs": []
    },
    {
      "cell_type": "code",
      "source": [
        "import joblib\n",
        "\n",
        "# Save scaler and label encoder for inference\n",
        "joblib.dump(scaler, 'model/scaler.pkl')\n",
        "joblib.dump(le, 'model/label_encoder.pkl')\n",
        "\n",
        "print(\"✅ scaler.pkl and label_encoder.pkl saved in ./model/\")"
      ],
      "metadata": {
        "id": "b-nCdtE6U533"
      },
      "execution_count": null,
      "outputs": []
    }
  ],
  "metadata": {
    "colab": {
      "provenance": []
    },
    "kernelspec": {
      "display_name": "Python 3",
      "name": "python3"
    },
    "language_info": {
      "name": "python"
    }
  },
  "nbformat": 4,
  "nbformat_minor": 0
}